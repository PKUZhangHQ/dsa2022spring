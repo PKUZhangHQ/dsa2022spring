{
 "cells": [
  {
   "cell_type": "markdown",
   "metadata": {},
   "source": [
    "# 1 泰波拿契数\n",
    "总时间限制: 500ms 内存限制: 65536kB\n",
    "    \n",
    "**描述**  \n",
    "泰波拿契数列 Tn 定义是  \n",
    "T0 = 0, T1 = 1, T2 = 1, and Tn+3 = Tn + Tn+1 + Tn+2 for n >= 0.  \n",
    "给定n请算出Tn  \n",
    "n的范围:1<=n<=30 \n",
    "   \n",
    "**输入**  \n",
    "一个正整数n  \n",
    "**输出**  \n",
    "一个正整数k"
   ]
  },
  {
   "cell_type": "code",
   "execution_count": null,
   "metadata": {},
   "outputs": [],
   "source": [
    "def tibonacci(n):\n",
    "    if n >= 3:\n",
    "        return tibonacci(n - 1) + tibonacci(n - 2) + tibonacci(n - 3)\n",
    "    elif n == 2 or n == 1:\n",
    "        return 1\n",
    "    else:\n",
    "        return 0\n",
    "\n",
    "print(tibonacci(int(input())))"
   ]
  },
  {
   "cell_type": "code",
   "execution_count": null,
   "metadata": {},
   "outputs": [],
   "source": [
    "n = int(input())\n",
    "t = [0, 1, 1]\n",
    "while len(t) <= n:\n",
    "    t.append(sum(t[-1:-4:-1]))\n",
    "print(t[n])"
   ]
  },
  {
   "cell_type": "markdown",
   "metadata": {},
   "source": [
    "# 2 字符串中的第一个不重复字符  \n",
    "总时间限制: 1000ms 内存限制: 65536kB  \n",
    "  \n",
    "**描述**  \n",
    "给定一个字符串 s，找到其中的第一个「只在 s 中出现过一次」的字符，并返回其对应的下标。  \n",
    "如果不存在这样的字符，则返回-1。  \n",
    "  \n",
    "**输入**  \n",
    "一个字符串，长度在 100,000 以内，只由小写英文字母组成  \n",
    "**输出**  \n",
    "第一个不重复字符对应的下标，或 -1"
   ]
  },
  {
   "cell_type": "code",
   "execution_count": null,
   "metadata": {},
   "outputs": [],
   "source": [
    "s = input()\n",
    "judge = 0\n",
    "for index, i in enumerate(s):\n",
    "    if s.count(i) == 1:\n",
    "        print(index)\n",
    "        judge = 1\n",
    "        break\n",
    "if judge == 0:\n",
    "    print(-1)"
   ]
  },
  {
   "cell_type": "code",
   "execution_count": null,
   "metadata": {},
   "outputs": [],
   "source": [
    "dct = {chr(i) : 0 for i in range(97,123)}\n",
    "s = input()\n",
    "for i in s:\n",
    "    dct[i] += 1\n",
    "index = 1000000\n",
    "for key in dct.keys():\n",
    "    if dct[key] == 1:\n",
    "        index = min(index, s.index(key))\n",
    "print((index == 1000000) * (-1000001) + index)"
   ]
  },
  {
   "cell_type": "markdown",
   "metadata": {},
   "source": [
    "# 3 矩形切割  \n",
    "总时间限制: 5000ms 单个测试点时间限制: 1000ms 内存限制: 65536kB  \n",
    "  \n",
    "**描述**  \n",
    "小明有一些矩形的材料，他要从这些矩形材料中切割出一些正方形。  \n",
    "当他面对一块矩形材料时，他总是平行于较短的切割一刀，切出一块最大的正方形，剩下一块矩形，然后再切割剩下的矩形材料，直到全部切为正方形为止。  \n",
    "例如，对于一块两边长度分别为 5 和 3 的材料（记为 5×3），小明会依次切出 3×3、2×2、1×1、1×1 共 4 个正方形。  \n",
    "现在小明有一块矩形的材料，两边长分别是 N 和 M。请问小明最终会 切出多少个正方形？  \n",
    "\n",
    "**输入**  \n",
    "一行两个整数N和M。  \n",
    "1 <= N, M <= 3000  \n",
    "**输出**  \n",
    "一个整数代表答案"
   ]
  },
  {
   "cell_type": "code",
   "execution_count": null,
   "metadata": {},
   "outputs": [],
   "source": [
    "n, m = map(int, input().split())\n",
    "square = 1\n",
    "while n != m:\n",
    "    n, m = max(m, n) - min(m, n) , min(m, n)\n",
    "    square += 1\n",
    "print(square)"
   ]
  },
  {
   "cell_type": "markdown",
   "metadata": {},
   "source": [
    "# 4 Maximum 23 Number  \n",
    "总时间限制: 10000ms 内存限制: 65536kB  \n",
    "  \n",
    "**描述**  \n",
    "给定一个只有2,3的正整数  \n",
    "能够将其中你最多一个数从2变成3  \n",
    "请输出改变后最大的值  \n",
    "  \n",
    "**输入**  \n",
    "一个正整数 n  \n",
    "1 < n < 10^4  \n",
    "**输出**  \n",
    "一个正整数"
   ]
  },
  {
   "cell_type": "code",
   "execution_count": null,
   "metadata": {},
   "outputs": [],
   "source": [
    "print(input().replace('2', '3', 1)) # Don't forget the 3rd argument \"count\", otherwise, all chars that match will be replaced"
   ]
  },
  {
   "cell_type": "markdown",
   "metadata": {},
   "source": [
    "# 5 螺旋加密  \n",
    "总时间限制: 1000ms 内存限制: 65536kB  \n",
    "  \n",
    "**描述**  \n",
    "Chip和Dale发明了一种文本信息加密技术。他们事先秘密约定好矩阵的行数和列数。接着，将字符按如下方式编码：  \n",
    "1. 所有文本只包含大写字母和空格。  \n",
    "2. 每个字符均赋予一个数值：空格=0，A=1，B=2，……，Y=25，Z=26。  \n",
    "  \n",
    "按照下图所示的方式，将每个字符对应数值的5位二进制数依次填入矩阵。最后用0将矩阵补充完整。例如，对于信息“ACM”，行列数均为4时，矩阵将被填充为：\n",
    "![jupyter](http://media.openjudge.cn/images/3421.jpg)  \n",
    "将矩阵中的数字按行连起来形成数字串，完成加密。例子中的信息最终会被加密为：0000110100101100。  \n",
    "  \n",
    "**输入**  \n",
    "一行。首先是两个整数R(1≤R≤20)和C(1≤C≤20)，表示行数和列数。之后是一个只包含大写字母和空格的字符串。字符串的长度≤(R*C)/5。R和C之间以及C和字符串之间均用单个空格隔开。  \n",
    "**输出**  \n",
    "一行，为加密后的二进制串。注意你可能需要用0将矩阵补充完整。  "
   ]
  },
  {
   "cell_type": "code",
   "execution_count": null,
   "metadata": {},
   "outputs": [],
   "source": [
    "def fill():\n",
    "    global matrix, check, s, i, j, state\n",
    "    char = s.pop()\n",
    "    if state == 0:\n",
    "        matrix[i][j+1] = char\n",
    "        check[i][j+1] = 1\n",
    "        j += 1\n",
    "    if state == 1:\n",
    "        matrix[i+1][j] = char\n",
    "        check[i+1][j] = 1\n",
    "        i += 1\n",
    "    if state == 2:\n",
    "        matrix[i][j-1] = char\n",
    "        check[i][j-1] = 1\n",
    "        j -= 1\n",
    "    if state == 3:\n",
    "        matrix[i-1][j] = char\n",
    "        check[i-1][j] = 1\n",
    "        i -= 1\n",
    "\n",
    "def look_up():\n",
    "    global check, i, j, state\n",
    "    try:\n",
    "        if (state == 0 and check[i][j+1] == 1) or (state == 1 and check[i+1][j] == 1) or (state == 2 and check[i][j-1] == 1) or (state == 3 and check[i-1][j] == 1):\n",
    "            state = (state + 1) % 4\n",
    "    except:\n",
    "        state = (state + 1) % 4\n"
   ]
  },
  {
   "cell_type": "code",
   "execution_count": null,
   "metadata": {},
   "outputs": [],
   "source": [
    "\n",
    "dct = {chr(i) : (bin(i - 64)[2:][::-1] + '00000')[:5][::-1] for i in range(65, 91)}\n",
    "dct[' '] = '00000'\n",
    "'''\n",
    "If there are consecutive spaces in the string, split() will simply remove them, and the join() method won't handle this situation correctly.\n",
    "\n",
    "lst = input().split()\n",
    "r = int(lst.pop(0))\n",
    "c = int(lst.pop(0))\n",
    "s = ' '.join(lst)[::-1]\n",
    "'''\n",
    "string = input()\n",
    "lst = string.split()\n",
    "r = int(lst.pop(0))\n",
    "c = int(lst.pop(0))\n",
    "s = string[len(str(r))+len(str(c))+2:][::-1]\n",
    "s = list(''.join([dct[x][::-1] for x in s]))\n",
    "matrix = [[0 for i in range(c)] for j in range(r)]\n",
    "check = [[0 for i in range(c)] for j in range(r)]\n",
    "\n",
    "state = 0\n",
    "i = 0\n",
    "j = -1"
   ]
  },
  {
   "cell_type": "code",
   "execution_count": null,
   "metadata": {},
   "outputs": [],
   "source": [
    "while s != []:\n",
    "    look_up()\n",
    "    fill()\n",
    "\n",
    "for i in range(r):\n",
    "    for j in range(c):\n",
    "        print(matrix[i][j],end='')"
   ]
  }
 ],
 "metadata": {
  "interpreter": {
   "hash": "238e95459eb1ff59063f24163eb81e6197e1cd426ee33322caeba324b4e1b6a9"
  },
  "kernelspec": {
   "display_name": "Python 3.8.0 64-bit",
   "language": "python",
   "name": "python3"
  },
  "language_info": {
   "codemirror_mode": {
    "name": "ipython",
    "version": 3
   },
   "file_extension": ".py",
   "mimetype": "text/x-python",
   "name": "python",
   "nbconvert_exporter": "python",
   "pygments_lexer": "ipython3",
   "version": "3.8.0"
  },
  "orig_nbformat": 4
 },
 "nbformat": 4,
 "nbformat_minor": 2
}
