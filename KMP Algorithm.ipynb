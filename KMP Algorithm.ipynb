{
 "cells": [
  {
   "cell_type": "code",
   "execution_count": 1,
   "metadata": {},
   "outputs": [],
   "source": [
    "import re\n",
    "import random\n",
    "import string"
   ]
  },
  {
   "cell_type": "code",
   "execution_count": 36,
   "metadata": {},
   "outputs": [],
   "source": [
    "chars = string.ascii_lowercase[:2]"
   ]
  },
  {
   "cell_type": "markdown",
   "metadata": {},
   "source": [
    "# 朴素算法"
   ]
  },
  {
   "cell_type": "code",
   "execution_count": 52,
   "metadata": {},
   "outputs": [],
   "source": [
    "def naive_search(p, s):\n",
    "    for i in range(len(s) - len(p) + 1):\n",
    "        for j in range(len(p)):\n",
    "            pos = i + j\n",
    "            if p[j] != s[pos]:\n",
    "                break\n",
    "            elif j == len(p) - 1:\n",
    "                return i\n",
    "    return None  "
   ]
  },
  {
   "cell_type": "markdown",
   "metadata": {},
   "source": [
    "# KMP算法"
   ]
  },
  {
   "cell_type": "code",
   "execution_count": 42,
   "metadata": {},
   "outputs": [],
   "source": [
    "def prefix(p):\n",
    "    ret = [0] * len(p)\n",
    "    for i in range(1, len(p)):\n",
    "        j = ret[i-1]\n",
    "        while True:\n",
    "            if p[i] == p[j]:\n",
    "                ret[i] = j + 1 #! 要写j+1\n",
    "                break\n",
    "            else:\n",
    "                if j == 0:\n",
    "                    ret[i] = 0\n",
    "                    break\n",
    "                else:\n",
    "                    j = ret[j-1]\n",
    "    return ret"
   ]
  },
  {
   "cell_type": "code",
   "execution_count": 27,
   "metadata": {},
   "outputs": [],
   "source": [
    "def kmp_search(p, s):\n",
    "    ret = prefix(p)\n",
    "    i = j = 0\n",
    "    while j <= len(s) - 1: #! 都要-1，索引和长度差1\n",
    "        if p[i] == s[j]:\n",
    "            if i == len(p) - 1: #! 都要-1，索引和长度差1\n",
    "                return j - i\n",
    "            i += 1\n",
    "            j += 1\n",
    "        else:\n",
    "            if i == 0:\n",
    "                j += 1\n",
    "            else:\n",
    "                i = ret[i-1]\n",
    "    else:\n",
    "        return None"
   ]
  },
  {
   "cell_type": "markdown",
   "metadata": {},
   "source": [
    "# 正确性检验"
   ]
  },
  {
   "cell_type": "code",
   "execution_count": 43,
   "metadata": {},
   "outputs": [
    {
     "name": "stdout",
     "output_type": "stream",
     "text": [
      "■■■■■■■■■■■■■■■■■■■■\t10000/10000"
     ]
    }
   ],
   "source": [
    "times = 10000\n",
    "in_lst = []\n",
    "for _ in range(times):\n",
    "    s = ''.join(random.choices(chars, k=10000))\n",
    "    p = ''.join(random.choices(chars, k=20))\n",
    "    kmp_res = kmp_search(p, s)\n",
    "    re_search = re.search(p, s)\n",
    "    re_res = re_search.start() if re_search != None else None\n",
    "    print('\\r' + '■'*((_ + 1)//500) + '□'*((times - _ - 1)//500) + '\\t' + '{}/{}'.format(_+1, times), end='')\n",
    "    if kmp_res != None:\n",
    "        in_lst.append(kmp_res)\n",
    "    if kmp_res != re_res:\n",
    "        print()\n",
    "        print(p)\n",
    "        print(s)\n",
    "        break"
   ]
  },
  {
   "cell_type": "markdown",
   "metadata": {},
   "source": [
    "# 效率检验"
   ]
  },
  {
   "cell_type": "code",
   "execution_count": 89,
   "metadata": {},
   "outputs": [
    {
     "name": "stdout",
     "output_type": "stream",
     "text": [
      "135 ms ± 1.94 ms per loop (mean ± std. dev. of 7 runs, 10 loops each)\n"
     ]
    }
   ],
   "source": [
    "%timeit naive_search(''.join(random.choices(chars, k=100)), ''.join(random.choices(chars, k=100000)))"
   ]
  },
  {
   "cell_type": "code",
   "execution_count": 90,
   "metadata": {},
   "outputs": [
    {
     "name": "stdout",
     "output_type": "stream",
     "text": [
      "114 ms ± 1.28 ms per loop (mean ± std. dev. of 7 runs, 10 loops each)\n"
     ]
    }
   ],
   "source": [
    "%timeit kmp_search(''.join(random.choices(chars, k=100)), ''.join(random.choices(chars, k=100000)))"
   ]
  },
  {
   "cell_type": "code",
   "execution_count": 82,
   "metadata": {},
   "outputs": [
    {
     "name": "stdout",
     "output_type": "stream",
     "text": [
      "27.7 ms ± 172 µs per loop (mean ± std. dev. of 7 runs, 10 loops each)\n"
     ]
    }
   ],
   "source": [
    "%timeit re.search(''.join(random.choices(chars, k=100)), ''.join(random.choices(chars, k=100000)))"
   ]
  },
  {
   "cell_type": "code",
   "execution_count": 83,
   "metadata": {},
   "outputs": [
    {
     "name": "stdout",
     "output_type": "stream",
     "text": [
      "27.3 ms ± 276 µs per loop (mean ± std. dev. of 7 runs, 10 loops each)\n"
     ]
    }
   ],
   "source": [
    "%timeit ''.join(random.choices(chars, k=100)) in ''.join(random.choices(chars, k=100000))"
   ]
  }
 ],
 "metadata": {
  "interpreter": {
   "hash": "11b68844c66d1f2a6e6746a523554d5ba43f7ea52abca50f4e275a522b24def1"
  },
  "kernelspec": {
   "display_name": "Python 3.8.0 64-bit",
   "language": "python",
   "name": "python3"
  },
  "language_info": {
   "codemirror_mode": {
    "name": "ipython",
    "version": 3
   },
   "file_extension": ".py",
   "mimetype": "text/x-python",
   "name": "python",
   "nbconvert_exporter": "python",
   "pygments_lexer": "ipython3",
   "version": "3.8.0"
  },
  "orig_nbformat": 4
 },
 "nbformat": 4,
 "nbformat_minor": 2
}
